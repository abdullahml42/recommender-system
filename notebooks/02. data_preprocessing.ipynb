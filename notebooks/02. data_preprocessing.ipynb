{
 "cells": [
  {
   "cell_type": "markdown",
   "metadata": {},
   "source": [
    "### Dependencies"
   ]
  },
  {
   "cell_type": "code",
   "execution_count": null,
   "metadata": {},
   "outputs": [],
   "source": [
    "import os\n",
    "import pickle\n",
    "from dataclasses import dataclass\n",
    "from pathlib import Path\n",
    "\n",
    "import numpy as np\n",
    "import pandas as pd\n",
    "import yaml\n",
    "from sklearn.model_selection import train_test_split\n",
    "from sklearn.preprocessing import LabelEncoder\n",
    "\n",
    "from recommender_system.constants import CONFIG_FILE_PATH, PARAMS_FILE_PATH\n",
    "from recommender_system.logging import logger\n",
    "from recommender_system.utils import create_directories, read_yaml, scale_targets\n",
    "\n",
    "os.chdir(\"../\")"
   ]
  },
  {
   "cell_type": "markdown",
   "metadata": {},
   "source": [
    "### Entity"
   ]
  },
  {
   "cell_type": "code",
   "execution_count": null,
   "metadata": {},
   "outputs": [],
   "source": [
    "@dataclass(frozen=True)\n",
    "class DataPreprocessingConfig:\n",
    "    \"\"\"Represents the configuration for data preprocessing.\"\"\"\n",
    "    root_dir: Path\n",
    "    data_path: Path"
   ]
  },
  {
   "cell_type": "markdown",
   "metadata": {},
   "source": [
    "### Configuration Manager"
   ]
  },
  {
   "cell_type": "code",
   "execution_count": null,
   "metadata": {},
   "outputs": [],
   "source": [
    "class ConfigurationManager:\n",
    "    def __init__(\n",
    "        self, config_filepath=CONFIG_FILE_PATH, params_filepath=PARAMS_FILE_PATH\n",
    "    ):\n",
    "        \"\"\"Initialises ConfigurationManager with config and params filepaths.\"\"\"\n",
    "        self.config = read_yaml(config_filepath)\n",
    "        self.params = read_yaml(params_filepath)\n",
    "        create_directories([self.config.artifacts_root])\n",
    "\n",
    "    def get_data_preprocessing_config(self) -> DataPreprocessingConfig:\n",
    "        \"\"\"Returns the data preprocessing configuration.\"\"\"\n",
    "        config = self.config.data_preprocessing\n",
    "        create_directories([config.root_dir])\n",
    "\n",
    "        data_preprocessing_config = DataPreprocessingConfig(\n",
    "            root_dir=Path(config.root_dir),\n",
    "            data_path=Path(config.data_path)\n",
    "        )\n",
    "\n",
    "        return data_preprocessing_config"
   ]
  },
  {
   "cell_type": "markdown",
   "metadata": {},
   "source": [
    "### Component"
   ]
  },
  {
   "cell_type": "code",
   "execution_count": null,
   "metadata": {},
   "outputs": [],
   "source": [
    "class DataPreprocessor:\n",
    "    def __init__(self, config):\n",
    "        \"\"\"Initialises the DataPreprocessor object with the given config.\"\"\"\n",
    "        self.config = config\n",
    "\n",
    "    def load_data(self):\n",
    "        \"\"\"Loads data from a JSON file and performs initial data preprocessing.\"\"\"\n",
    "        self.df = pd.read_json(self.config.data_path, lines=True)\n",
    "        self.df = self.df[[\"reviewerID\", \"asin\", \"overall\"]]\n",
    "        self.df = self.df.rename(columns={\"asin\": \"productID\", \"overall\": \"rating\"})\n",
    "        self.df = self.df.groupby(by=[\"reviewerID\", \"productID\"], as_index=False).agg(\n",
    "            {\"rating\": \"mean\"}\n",
    "        )\n",
    "\n",
    "    def encode_labels(self):\n",
    "        \"\"\"Encodes reviewer and product labels using LabelEncoder.\"\"\"\n",
    "        self.reviewer_encoder = LabelEncoder()\n",
    "        self.df[\"encodedReviewerID\"] = self.reviewer_encoder.fit_transform(\n",
    "            self.df[\"reviewerID\"]\n",
    "        )\n",
    "\n",
    "        self.product_encoder = LabelEncoder()\n",
    "        self.df[\"encodedProductID\"] = self.product_encoder.fit_transform(\n",
    "            self.df[\"productID\"]\n",
    "        )\n",
    "\n",
    "    def calculate_statistics(self):\n",
    "        \"\"\"Calculates statistics.\"\"\"\n",
    "        self.number_of_reviewers = self.df[\"encodedReviewerID\"].nunique()\n",
    "        self.number_of_products = self.df[\"encodedProductID\"].nunique()\n",
    "        self.min_rating = np.min(self.df[\"rating\"])\n",
    "        self.max_rating = np.max(self.df[\"rating\"])\n",
    "        self.save_params()\n",
    "\n",
    "    def prepare_data(self):\n",
    "        \"\"\"Prepares the features and targets for training and validation.\"\"\"\n",
    "        features = self.df[[\"encodedReviewerID\", \"encodedProductID\"]]\n",
    "        targets = self.df[\"rating\"]\n",
    "\n",
    "        self.X_train, self.X_val, self.y_train, self.y_val = train_test_split(\n",
    "            features.values, targets.values, test_size=0.2, random_state=1\n",
    "        )\n",
    "\n",
    "        self.X_train_lists = [self.X_train[:, 0], self.X_train[:, 1]]\n",
    "        self.X_val_lists = [self.X_val[:, 0], self.X_val[:, 1]]\n",
    "        self.val_reviewer_ids = self.X_val[:, 0]\n",
    "        self.val_product_ids = self.X_val[:, 1]\n",
    "\n",
    "        self.y_train_scaled = scale_targets(\n",
    "            self.y_train, self.min_rating, self.max_rating\n",
    "        )\n",
    "        self.y_val_scaled = scale_targets(self.y_val, self.min_rating, self.max_rating)\n",
    "\n",
    "    def save_params(self):\n",
    "        \"\"\"Saves the parameters.\"\"\"\n",
    "        params = {\n",
    "        \"NUMBER_OF_REVIEWERS\": int(self.number_of_reviewers),\n",
    "        \"NUMBER_OF_PRODUCTS\": int(self.number_of_products),\n",
    "        \"MIN_RATING\": float(self.min_rating),\n",
    "        \"MAX_RATING\": float(self.max_rating)\n",
    "        }\n",
    "\n",
    "        params_file_path = Path(\"params/params.yaml\")\n",
    "        with open(params_file_path, \"w\") as f:\n",
    "            yaml.dump(params, f)\n",
    "\n",
    "    def save_preprocessed_data(self):\n",
    "        \"\"\"Saves preprocessed variables and objects.\"\"\"\n",
    "        os.makedirs(self.config.root_dir, exist_ok=True)\n",
    "\n",
    "        self.df.to_csv(\n",
    "            os.path.join(self.config.root_dir, \"preprocessed_data.csv\"), index=False\n",
    "        )\n",
    "\n",
    "        file_data = {\n",
    "            \"reviewer_encoder.pkl\": self.reviewer_encoder,\n",
    "            \"product_encoder.pkl\": self.product_encoder,\n",
    "            \"X_train.pkl\": self.X_train_lists,\n",
    "            \"X_val.pkl\": self.X_val_lists,\n",
    "            \"y_train_scaled.pkl\": self.y_train_scaled,\n",
    "            \"y_val_scaled.pkl\": self.y_val_scaled,\n",
    "            \"val_reviewer_ids.pkl\": self.val_reviewer_ids,\n",
    "            \"val_product_ids.pkl\": self.val_product_ids\n",
    "        }\n",
    "\n",
    "        for filename, data in file_data.items():\n",
    "            with open(os.path.join(self.config.root_dir, filename), \"wb\") as f:\n",
    "                pickle.dump(data, f)"
   ]
  },
  {
   "cell_type": "markdown",
   "metadata": {},
   "source": [
    "### Pipeline"
   ]
  },
  {
   "cell_type": "code",
   "execution_count": null,
   "metadata": {},
   "outputs": [],
   "source": [
    "try:\n",
    "    config = ConfigurationManager()\n",
    "    data_preprocessing_config = config.get_data_preprocessing_config()\n",
    "    data_preprocessor = DataPreprocessor(data_preprocessing_config)\n",
    "    data_preprocessor.load_data()\n",
    "    data_preprocessor.encode_labels()\n",
    "    data_preprocessor.calculate_statistics()\n",
    "    data_preprocessor.prepare_data()\n",
    "    data_preprocessor.save_preprocessed_data()\n",
    "except Exception as e:\n",
    "    raise e"
   ]
  }
 ],
 "metadata": {
  "kernelspec": {
   "display_name": "myenv",
   "language": "python",
   "name": "python3"
  },
  "language_info": {
   "codemirror_mode": {
    "name": "ipython",
    "version": 3
   },
   "file_extension": ".py",
   "mimetype": "text/x-python",
   "name": "python",
   "nbconvert_exporter": "python",
   "pygments_lexer": "ipython3",
   "version": "3.11.0"
  },
  "orig_nbformat": 4
 },
 "nbformat": 4,
 "nbformat_minor": 2
}
