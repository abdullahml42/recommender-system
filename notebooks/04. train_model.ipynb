{
 "cells": [
  {
   "cell_type": "markdown",
   "metadata": {},
   "source": [
    "### Dependencies"
   ]
  },
  {
   "cell_type": "code",
   "execution_count": null,
   "metadata": {},
   "outputs": [],
   "source": [
    "import os\n",
    "import pickle\n",
    "from dataclasses import dataclass\n",
    "from pathlib import Path\n",
    "\n",
    "import numpy as np\n",
    "import tensorflow as tf\n",
    "from tensorflow.keras.callbacks import EarlyStopping, ModelCheckpoint\n",
    "\n",
    "from recommender_system.constants import CONFIG_FILE_PATH, PARAMS_FILE_PATH\n",
    "from recommender_system.utils import create_directories, read_yaml\n",
    "\n",
    "seed_value = 42\n",
    "np.random.seed(seed_value)\n",
    "tf.random.set_seed(seed_value)\n",
    "\n",
    "os.chdir(\"../\")"
   ]
  },
  {
   "cell_type": "markdown",
   "metadata": {},
   "source": [
    "### Entity"
   ]
  },
  {
   "cell_type": "code",
   "execution_count": null,
   "metadata": {},
   "outputs": [],
   "source": [
    "@dataclass(frozen=True)\n",
    "class TrainModelConfig:\n",
    "    \"\"\"Represents the configuration for training the model.\"\"\"\n",
    "    root_dir: Path\n",
    "    base_model_path: Path\n",
    "    trained_model_path: Path\n",
    "    data_path: Path\n",
    "    batch_size: int\n",
    "    epochs: int\n",
    "    verbose: int"
   ]
  },
  {
   "cell_type": "markdown",
   "metadata": {},
   "source": [
    "### Configuration Manager"
   ]
  },
  {
   "cell_type": "code",
   "execution_count": null,
   "metadata": {},
   "outputs": [],
   "source": [
    "class ConfigurationManager:\n",
    "    def __init__(\n",
    "        self, config_filepath=CONFIG_FILE_PATH, params_filepath=PARAMS_FILE_PATH\n",
    "    ):\n",
    "        \"\"\"Initialises ConfigurationManager with config and params filepaths.\"\"\"\n",
    "        self.config = read_yaml(config_filepath)\n",
    "        self.params = read_yaml(params_filepath)\n",
    "        create_directories([self.config.artifacts_root])\n",
    "\n",
    "    def get_train_model_config(self) -> TrainModelConfig:\n",
    "        \"\"\"Returns the model training configuration.\"\"\"\n",
    "        base_model_config = self.config.build_model\n",
    "        train_model_config = self.config.train_model\n",
    "        data_config = self.config.data_preprocessing\n",
    "        create_directories([train_model_config.root_dir])\n",
    "\n",
    "        train_model_config = TrainModelConfig(\n",
    "            root_dir=Path(train_model_config.root_dir),\n",
    "            base_model_path=Path(base_model_config.model_path),\n",
    "            trained_model_path=Path(train_model_config.trained_model_path),\n",
    "            data_path=Path(data_config.root_dir),\n",
    "            batch_size=self.params.BATCH_SIZE,\n",
    "            epochs=self.params.EPOCHS,\n",
    "            verbose=self.params.VERBOSE\n",
    "        )\n",
    "\n",
    "        return train_model_config"
   ]
  },
  {
   "cell_type": "markdown",
   "metadata": {},
   "source": [
    "### Component"
   ]
  },
  {
   "cell_type": "code",
   "execution_count": null,
   "metadata": {},
   "outputs": [],
   "source": [
    "class ModelTrainer:\n",
    "    def __init__(self, config):\n",
    "        \"\"\"Initialises the ModelTrainer object with the given config.\"\"\"\n",
    "        self.config = config\n",
    "\n",
    "    def get_base_model(self):\n",
    "        \"\"\"Returns the base model.\"\"\"\n",
    "        return tf.keras.models.load_model(self.config.base_model_path)\n",
    "\n",
    "    def load_data(self, data_file_path):\n",
    "        \"\"\"Loads and returns data.\"\"\"\n",
    "        with data_file_path.open(\"rb\") as f:\n",
    "            data = pickle.load(f)\n",
    "\n",
    "        return data\n",
    "\n",
    "    def get_data(self):\n",
    "        \"\"\"Returns the loaded training and validation data.\"\"\"\n",
    "        data_dir = self.config.data_path\n",
    "\n",
    "        X_train = self.load_data(data_dir / \"X_train.pkl\")\n",
    "        X_val = self.load_data(data_dir / \"X_val.pkl\")\n",
    "        y_train_scaled = self.load_data(data_dir / \"y_train_scaled.pkl\")\n",
    "        y_val_scaled = self.load_data(data_dir / \"y_val_scaled.pkl\")\n",
    "\n",
    "        return X_train, X_val, y_train_scaled, y_val_scaled\n",
    "\n",
    "    def get_checkpoint_best_only(self):\n",
    "        \"\"\"Returns the checkpoint callback for saving the best model.\"\"\"\n",
    "        checkpoint_path = str(self.config.trained_model_path)\n",
    "\n",
    "        checkpoints = ModelCheckpoint(\n",
    "            filepath=checkpoint_path,\n",
    "            monitor=\"val_accuracy\",\n",
    "            verbose=self.config.verbose,\n",
    "            save_best_only=True,\n",
    "            save_weights_only=False,\n",
    "            save_freq=\"epoch\"\n",
    "        )\n",
    "\n",
    "        return checkpoints\n",
    "\n",
    "    def get_early_stopping(self):\n",
    "        \"\"\"Returns the early stopping callback.\"\"\"\n",
    "        callback = EarlyStopping(\n",
    "            patience=2, monitor=\"val_loss\", verbose=self.config.verbose\n",
    "        )\n",
    "\n",
    "        return callback\n",
    "\n",
    "    def initialise_callbacks(self):\n",
    "        \"\"\"Initialises and returns the list of callbacks.\"\"\"\n",
    "        checkpoint_best_only = self.get_checkpoint_best_only()\n",
    "        early_stopping = self.get_early_stopping()\n",
    "        callbacks = [checkpoint_best_only, early_stopping]\n",
    "\n",
    "        return callbacks\n",
    "\n",
    "    def train_model(self):\n",
    "        \"\"\"Trains the model and returns the training history.\"\"\"\n",
    "        X_train, X_val, y_train_scaled, y_val_scaled = self.get_data()\n",
    "        model = self.get_base_model()\n",
    "        callbacks = self.initialise_callbacks()\n",
    "\n",
    "        history = model.fit(\n",
    "            X_train,\n",
    "            y_train_scaled,\n",
    "            batch_size=self.config.batch_size,\n",
    "            epochs=self.config.epochs,\n",
    "            verbose=self.config.verbose,\n",
    "            callbacks=callbacks,\n",
    "            validation_data=(X_val, y_val_scaled)\n",
    "        )\n",
    "\n",
    "        return history"
   ]
  },
  {
   "cell_type": "markdown",
   "metadata": {},
   "source": [
    "### Pipeline"
   ]
  },
  {
   "cell_type": "code",
   "execution_count": null,
   "metadata": {},
   "outputs": [],
   "source": [
    "try:\n",
    "    config = ConfigurationManager()\n",
    "    train_config = config.get_train_model_config()\n",
    "    model_trainer = ModelTrainer(train_config)\n",
    "    history = model_trainer.train_model()\n",
    "except Exception as e:\n",
    "    raise e"
   ]
  }
 ],
 "metadata": {
  "kernelspec": {
   "display_name": "myenv",
   "language": "python",
   "name": "python3"
  },
  "language_info": {
   "codemirror_mode": {
    "name": "ipython",
    "version": 3
   },
   "file_extension": ".py",
   "mimetype": "text/x-python",
   "name": "python",
   "nbconvert_exporter": "python",
   "pygments_lexer": "ipython3",
   "version": "3.11.0"
  },
  "orig_nbformat": 4
 },
 "nbformat": 4,
 "nbformat_minor": 2
}
