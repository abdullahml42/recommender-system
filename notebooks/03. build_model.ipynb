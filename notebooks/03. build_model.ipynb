{
 "cells": [
  {
   "cell_type": "markdown",
   "metadata": {},
   "source": [
    "### Dependencies"
   ]
  },
  {
   "cell_type": "code",
   "execution_count": null,
   "metadata": {},
   "outputs": [],
   "source": [
    "import os\n",
    "from dataclasses import dataclass\n",
    "from pathlib import Path\n",
    "\n",
    "import tensorflow as tf\n",
    "from keras.layers import (Concatenate, Dense, Dropout, Embedding, Flatten,\n",
    "                          Input, Multiply)\n",
    "from keras.models import Model\n",
    "\n",
    "from recommender_system.constants import CONFIG_FILE_PATH, PARAMS_FILE_PATH\n",
    "from recommender_system.logging import logger\n",
    "from recommender_system.utils import create_directories, read_yaml\n",
    "\n",
    "os.chdir(\"../\")"
   ]
  },
  {
   "cell_type": "markdown",
   "metadata": {},
   "source": [
    "### Entity"
   ]
  },
  {
   "cell_type": "code",
   "execution_count": null,
   "metadata": {},
   "outputs": [],
   "source": [
    "@dataclass(frozen=True)\n",
    "class ModelConfig:\n",
    "    \"\"\"Represents the configuration for building the model.\"\"\"\n",
    "    root_dir: Path\n",
    "    model_path: Path\n",
    "    number_of_reviewers: int\n",
    "    number_of_products: int\n",
    "    number_of_dimensions: int\n",
    "    learning_rate: float"
   ]
  },
  {
   "cell_type": "markdown",
   "metadata": {},
   "source": [
    "### Configuration Manager"
   ]
  },
  {
   "cell_type": "code",
   "execution_count": null,
   "metadata": {},
   "outputs": [],
   "source": [
    "class ConfigurationManager:\n",
    "    def __init__(\n",
    "        self, config_filepath=CONFIG_FILE_PATH, params_filepath=PARAMS_FILE_PATH\n",
    "    ):\n",
    "        \"\"\"Initialises ConfigurationManager with config and params filepaths.\"\"\"\n",
    "        self.config = read_yaml(config_filepath)\n",
    "        self.params = read_yaml(params_filepath)\n",
    "        create_directories([self.config.artifacts_root])\n",
    "\n",
    "    def get_build_model_config(self) -> ModelConfig:\n",
    "        \"\"\"Returns the model building configuration.\"\"\"\n",
    "        config = self.config.build_model\n",
    "        create_directories([config.root_dir])\n",
    "\n",
    "        build_model_config = ModelConfig(\n",
    "            root_dir=Path(config.root_dir),\n",
    "            model_path=Path(config.model_path),\n",
    "            number_of_reviewers=self.params.NUMBER_OF_REVIEWERS,\n",
    "            number_of_products=self.params.NUMBER_OF_PRODUCTS,\n",
    "            number_of_dimensions=self.params.NUMBER_OF_DIMENSIONS,\n",
    "            learning_rate=self.params.LEARNING_RATE\n",
    "        )\n",
    "\n",
    "        return build_model_config"
   ]
  },
  {
   "cell_type": "markdown",
   "metadata": {},
   "source": [
    "### Component"
   ]
  },
  {
   "cell_type": "code",
   "execution_count": null,
   "metadata": {},
   "outputs": [],
   "source": [
    "class ModelBuilder:\n",
    "    def __init__(self, config):\n",
    "        \"\"\"Initialises the ModelBuilder object with the given config.\"\"\"\n",
    "        self.config = config\n",
    "\n",
    "    def build_and_compile_model(self):\n",
    "        \"\"\"Builds and compiles the model.\"\"\"\n",
    "        number_of_reviewers = self.config.number_of_reviewers\n",
    "        number_of_products = self.config.number_of_products\n",
    "        number_of_dimensions = self.config.number_of_dimensions\n",
    "        learning_rate = self.config.learning_rate\n",
    "\n",
    "        reviewer_input = Input(shape=(1,))\n",
    "        reviewer_embedding = Embedding(\n",
    "            input_dim=number_of_reviewers, output_dim=number_of_dimensions\n",
    "        )(reviewer_input)\n",
    "        reviewer_embedding = Flatten()(reviewer_embedding)\n",
    "\n",
    "        product_input = Input(shape=(1,))\n",
    "        product_embedding = Embedding(\n",
    "            input_dim=number_of_products, output_dim=number_of_dimensions\n",
    "        )(product_input)\n",
    "        product_embedding = Flatten()(product_embedding)\n",
    "\n",
    "        matrix_factorisation_output = Multiply()(\n",
    "            [reviewer_embedding, product_embedding]\n",
    "        )\n",
    "        concatenated_embeddings = Concatenate()([reviewer_embedding, product_embedding])\n",
    "\n",
    "        hidden_layer_1 = Dense(units=32, activation=\"relu\")(concatenated_embeddings)\n",
    "        dropout_layer = Dropout(rate=0.5)(hidden_layer_1)\n",
    "        hidden_layer_2 = Dense(units=16, activation=\"relu\")(dropout_layer)\n",
    "\n",
    "        output = Concatenate()([matrix_factorisation_output, hidden_layer_2])\n",
    "        output = Dense(units=1, activation=\"sigmoid\")(output)\n",
    "\n",
    "        model = Model(inputs=[reviewer_input, product_input], outputs=output)\n",
    "        model.compile(\n",
    "            optimizer=tf.keras.optimizers.Adam(learning_rate=learning_rate),\n",
    "            loss=\"mse\",\n",
    "            metrics=[\"accuracy\"]\n",
    "        )\n",
    "\n",
    "        model.summary()\n",
    "        return model\n",
    "\n",
    "    def save_model(self, model):\n",
    "        \"\"\"Saves the model.\"\"\"\n",
    "        model.save(self.config.model_path)"
   ]
  },
  {
   "cell_type": "markdown",
   "metadata": {},
   "source": [
    "### Pipeline"
   ]
  },
  {
   "cell_type": "code",
   "execution_count": null,
   "metadata": {},
   "outputs": [],
   "source": [
    "try:\n",
    "    config = ConfigurationManager()\n",
    "    model_config = config.get_build_model_config()\n",
    "    model_builder = ModelBuilder(model_config)\n",
    "    model = model_builder.build_and_compile_model()\n",
    "    model_builder.save_model(model)\n",
    "except Exception as e:\n",
    "    raise e"
   ]
  }
 ],
 "metadata": {
  "kernelspec": {
   "display_name": "myenv",
   "language": "python",
   "name": "python3"
  },
  "language_info": {
   "codemirror_mode": {
    "name": "ipython",
    "version": 3
   },
   "file_extension": ".py",
   "mimetype": "text/x-python",
   "name": "python",
   "nbconvert_exporter": "python",
   "pygments_lexer": "ipython3",
   "version": "3.11.0"
  },
  "orig_nbformat": 4
 },
 "nbformat": 4,
 "nbformat_minor": 2
}
