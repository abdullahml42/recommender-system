{
 "cells": [
  {
   "cell_type": "markdown",
   "metadata": {},
   "source": [
    "### Dependencies"
   ]
  },
  {
   "cell_type": "code",
   "execution_count": null,
   "metadata": {},
   "outputs": [],
   "source": [
    "import gzip\n",
    "import json\n",
    "import os\n",
    "import urllib.request\n",
    "from dataclasses import dataclass\n",
    "from pathlib import Path\n",
    "\n",
    "from recommender_system.constants import CONFIG_FILE_PATH, PARAMS_FILE_PATH\n",
    "from recommender_system.utils import create_directories, read_yaml\n",
    "\n",
    "os.chdir(\"../\")"
   ]
  },
  {
   "cell_type": "markdown",
   "metadata": {},
   "source": [
    "### Entity"
   ]
  },
  {
   "cell_type": "code",
   "execution_count": null,
   "metadata": {},
   "outputs": [],
   "source": [
    "@dataclass(frozen=True)\n",
    "class DataIngestionConfig:\n",
    "    \"\"\"Represents the configuration for data ingestion.\"\"\"\n",
    "    root_dir: Path\n",
    "    source_url: str\n",
    "    local_data_file_path: Path\n",
    "    unzip_directory: Path"
   ]
  },
  {
   "cell_type": "markdown",
   "metadata": {},
   "source": [
    "### Configuration Manager"
   ]
  },
  {
   "cell_type": "code",
   "execution_count": null,
   "metadata": {},
   "outputs": [],
   "source": [
    "class ConfigurationManager:\n",
    "    def __init__(\n",
    "        self, config_filepath=CONFIG_FILE_PATH, params_filepath=PARAMS_FILE_PATH\n",
    "    ):\n",
    "        \"\"\"Initialises ConfigurationManager with config and params filepaths.\"\"\"\n",
    "        self.config = read_yaml(config_filepath)\n",
    "        self.params = read_yaml(params_filepath)\n",
    "        create_directories([self.config.artifacts_root])\n",
    "\n",
    "    def get_data_ingestion_config(self) -> DataIngestionConfig:\n",
    "        \"\"\"Returns the data ingestion configuration.\"\"\"\n",
    "        config = self.config.data_ingestion\n",
    "        create_directories([config.root_dir])\n",
    "\n",
    "        data_ingestion_config = DataIngestionConfig(\n",
    "            root_dir=Path(config.root_dir),\n",
    "            source_url=config.source_url,\n",
    "            local_data_file_path=Path(config.local_data_file_path),\n",
    "            unzip_directory=Path(config.unzip_directory)\n",
    "        )\n",
    "\n",
    "        return data_ingestion_config"
   ]
  },
  {
   "cell_type": "markdown",
   "metadata": {},
   "source": [
    "### Component"
   ]
  },
  {
   "cell_type": "code",
   "execution_count": null,
   "metadata": {},
   "outputs": [],
   "source": [
    "class DataIngestion:\n",
    "    def __init__(self, config):\n",
    "        \"\"\"Initialises the DataIngestion object with the given config.\"\"\"\n",
    "        self.config = config\n",
    "\n",
    "    def download_data(self):\n",
    "        \"\"\"Downloads the data from the source URL if it doesn't already exist locally.\"\"\"\n",
    "        if not os.path.exists(self.config.local_data_file_path):\n",
    "            urllib.request.urlretrieve(\n",
    "                url=self.config.source_url, filename=self.config.local_data_file_path\n",
    "            )\n",
    "\n",
    "    def extract_and_rename_json(self):\n",
    "        \"\"\"Extracts and renames the JSON file from the gzipped data file.\"\"\"\n",
    "        json_file_path = os.path.join(self.config.unzip_directory, \"data.json\")\n",
    "\n",
    "        with gzip.open(self.config.local_data_file_path, \"rb\") as gz_file:\n",
    "            with open(json_file_path, \"wb\") as json_file:\n",
    "                json_file.write(gz_file.read())"
   ]
  },
  {
   "cell_type": "markdown",
   "metadata": {},
   "source": [
    "### Pipeline"
   ]
  },
  {
   "cell_type": "code",
   "execution_count": null,
   "metadata": {},
   "outputs": [],
   "source": [
    "try:\n",
    "     config = ConfigurationManager()\n",
    "     data_ingestion_config = config.get_data_ingestion_config()\n",
    "     data_ingestion = DataIngestion(data_ingestion_config)\n",
    "     data_ingestion.download_data()\n",
    "     data_ingestion.extract_and_rename_json()\n",
    "except Exception as e:\n",
    "     raise e"
   ]
  }
 ],
 "metadata": {
  "kernelspec": {
   "display_name": "myenv",
   "language": "python",
   "name": "python3"
  },
  "language_info": {
   "codemirror_mode": {
    "name": "ipython",
    "version": 3
   },
   "file_extension": ".py",
   "mimetype": "text/x-python",
   "name": "python",
   "nbconvert_exporter": "python",
   "pygments_lexer": "ipython3",
   "version": "3.11.0"
  },
  "orig_nbformat": 4
 },
 "nbformat": 4,
 "nbformat_minor": 2
}
